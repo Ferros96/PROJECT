{
 "cells": [
  {
   "cell_type": "code",
   "execution_count": 1,
   "id": "saved-bride",
   "metadata": {
    "_cell_guid": "b1076dfc-b9ad-4769-8c92-a6c4dae69d19",
    "_uuid": "8f2839f25d086af736a60e9eeb907d3b93b6e0e5",
    "execution": {
     "iopub.execute_input": "2021-07-02T08:22:52.034645Z",
     "iopub.status.busy": "2021-07-02T08:22:52.033857Z",
     "iopub.status.idle": "2021-07-02T08:22:58.415364Z",
     "shell.execute_reply": "2021-07-02T08:22:58.414588Z",
     "shell.execute_reply.started": "2021-07-02T06:53:00.037247Z"
    },
    "papermill": {
     "duration": 6.427003,
     "end_time": "2021-07-02T08:22:58.415536",
     "exception": false,
     "start_time": "2021-07-02T08:22:51.988533",
     "status": "completed"
    },
    "tags": []
   },
   "outputs": [
    {
     "name": "stdout",
     "output_type": "stream",
     "text": [
      "/kaggle/input/glove6b50dtxt/glove.6B.50d.txt\n",
      "/kaggle/input/nlp-getting-started/sample_submission.csv\n",
      "/kaggle/input/nlp-getting-started/train.csv\n",
      "/kaggle/input/nlp-getting-started/test.csv\n"
     ]
    }
   ],
   "source": [
    "import pandas as pd\n",
    "import numpy as np\n",
    "import matplotlib.pyplot as plt\n",
    "import seaborn as sns\n",
    "from keras.models import Model\n",
    "from keras.layers import Dense, Embedding, Input\n",
    "from keras.layers import LSTM, Bidirectional, GlobalMaxPool1D, Dropout\n",
    "from keras.preprocessing.text import Tokenizer\n",
    "from keras.preprocessing.sequence import pad_sequences\n",
    "from keras.optimizers import Adam\n",
    "from sklearn.metrics import roc_auc_score\n",
    "import warnings\n",
    "warnings.filterwarnings(\"ignore\")\n",
    "import os\n",
    "for dirname, _, filenames in os.walk('/kaggle/input'):\n",
    "    for filename in filenames:\n",
    "        print(os.path.join(dirname, filename))\n",
    "\n",
    "# You can write up to 20GB to the current directory (/kaggle/working/) that gets preserved as output when you create a version using \"Save & Run All\" \n",
    "# You can also write temporary files to /kaggle/temp/, but they won't be saved outside of the current session"
   ]
  },
  {
   "cell_type": "code",
   "execution_count": 2,
   "id": "composed-advocate",
   "metadata": {
    "execution": {
     "iopub.execute_input": "2021-07-02T08:22:58.482917Z",
     "iopub.status.busy": "2021-07-02T08:22:58.482217Z",
     "iopub.status.idle": "2021-07-02T08:22:58.554495Z",
     "shell.execute_reply": "2021-07-02T08:22:58.553861Z",
     "shell.execute_reply.started": "2021-07-02T06:01:37.039328Z"
    },
    "papermill": {
     "duration": 0.106458,
     "end_time": "2021-07-02T08:22:58.554660",
     "exception": false,
     "start_time": "2021-07-02T08:22:58.448202",
     "status": "completed"
    },
    "tags": []
   },
   "outputs": [],
   "source": [
    "train = pd.read_csv(\"/kaggle/input/nlp-getting-started/train.csv\")\n",
    "test = pd.read_csv(\"/kaggle/input/nlp-getting-started/test.csv\")"
   ]
  },
  {
   "cell_type": "code",
   "execution_count": 3,
   "id": "retired-heater",
   "metadata": {
    "execution": {
     "iopub.execute_input": "2021-07-02T08:22:58.629413Z",
     "iopub.status.busy": "2021-07-02T08:22:58.628724Z",
     "iopub.status.idle": "2021-07-02T08:22:58.649371Z",
     "shell.execute_reply": "2021-07-02T08:22:58.649802Z",
     "shell.execute_reply.started": "2021-07-02T06:01:43.158600Z"
    },
    "papermill": {
     "duration": 0.063302,
     "end_time": "2021-07-02T08:22:58.649960",
     "exception": false,
     "start_time": "2021-07-02T08:22:58.586658",
     "status": "completed"
    },
    "tags": []
   },
   "outputs": [
    {
     "data": {
      "text/html": [
       "<div>\n",
       "<style scoped>\n",
       "    .dataframe tbody tr th:only-of-type {\n",
       "        vertical-align: middle;\n",
       "    }\n",
       "\n",
       "    .dataframe tbody tr th {\n",
       "        vertical-align: top;\n",
       "    }\n",
       "\n",
       "    .dataframe thead th {\n",
       "        text-align: right;\n",
       "    }\n",
       "</style>\n",
       "<table border=\"1\" class=\"dataframe\">\n",
       "  <thead>\n",
       "    <tr style=\"text-align: right;\">\n",
       "      <th></th>\n",
       "      <th>id</th>\n",
       "      <th>keyword</th>\n",
       "      <th>location</th>\n",
       "      <th>text</th>\n",
       "      <th>target</th>\n",
       "    </tr>\n",
       "  </thead>\n",
       "  <tbody>\n",
       "    <tr>\n",
       "      <th>0</th>\n",
       "      <td>1</td>\n",
       "      <td>NaN</td>\n",
       "      <td>NaN</td>\n",
       "      <td>Our Deeds are the Reason of this #earthquake M...</td>\n",
       "      <td>1</td>\n",
       "    </tr>\n",
       "    <tr>\n",
       "      <th>1</th>\n",
       "      <td>4</td>\n",
       "      <td>NaN</td>\n",
       "      <td>NaN</td>\n",
       "      <td>Forest fire near La Ronge Sask. Canada</td>\n",
       "      <td>1</td>\n",
       "    </tr>\n",
       "    <tr>\n",
       "      <th>2</th>\n",
       "      <td>5</td>\n",
       "      <td>NaN</td>\n",
       "      <td>NaN</td>\n",
       "      <td>All residents asked to 'shelter in place' are ...</td>\n",
       "      <td>1</td>\n",
       "    </tr>\n",
       "    <tr>\n",
       "      <th>3</th>\n",
       "      <td>6</td>\n",
       "      <td>NaN</td>\n",
       "      <td>NaN</td>\n",
       "      <td>13,000 people receive #wildfires evacuation or...</td>\n",
       "      <td>1</td>\n",
       "    </tr>\n",
       "    <tr>\n",
       "      <th>4</th>\n",
       "      <td>7</td>\n",
       "      <td>NaN</td>\n",
       "      <td>NaN</td>\n",
       "      <td>Just got sent this photo from Ruby #Alaska as ...</td>\n",
       "      <td>1</td>\n",
       "    </tr>\n",
       "  </tbody>\n",
       "</table>\n",
       "</div>"
      ],
      "text/plain": [
       "   id keyword location                                               text  \\\n",
       "0   1     NaN      NaN  Our Deeds are the Reason of this #earthquake M...   \n",
       "1   4     NaN      NaN             Forest fire near La Ronge Sask. Canada   \n",
       "2   5     NaN      NaN  All residents asked to 'shelter in place' are ...   \n",
       "3   6     NaN      NaN  13,000 people receive #wildfires evacuation or...   \n",
       "4   7     NaN      NaN  Just got sent this photo from Ruby #Alaska as ...   \n",
       "\n",
       "   target  \n",
       "0       1  \n",
       "1       1  \n",
       "2       1  \n",
       "3       1  \n",
       "4       1  "
      ]
     },
     "execution_count": 3,
     "metadata": {},
     "output_type": "execute_result"
    }
   ],
   "source": [
    "train.head()"
   ]
  },
  {
   "cell_type": "code",
   "execution_count": 4,
   "id": "floppy-trout",
   "metadata": {
    "execution": {
     "iopub.execute_input": "2021-07-02T08:22:58.724871Z",
     "iopub.status.busy": "2021-07-02T08:22:58.722258Z",
     "iopub.status.idle": "2021-07-02T08:22:58.728953Z",
     "shell.execute_reply": "2021-07-02T08:22:58.728477Z",
     "shell.execute_reply.started": "2021-07-02T06:04:04.545980Z"
    },
    "papermill": {
     "duration": 0.045883,
     "end_time": "2021-07-02T08:22:58.729088",
     "exception": false,
     "start_time": "2021-07-02T08:22:58.683205",
     "status": "completed"
    },
    "tags": []
   },
   "outputs": [
    {
     "data": {
      "text/plain": [
       "id             0\n",
       "keyword       61\n",
       "location    2533\n",
       "text           0\n",
       "target         0\n",
       "dtype: int64"
      ]
     },
     "execution_count": 4,
     "metadata": {},
     "output_type": "execute_result"
    }
   ],
   "source": [
    "train.isna().sum()"
   ]
  },
  {
   "cell_type": "code",
   "execution_count": 5,
   "id": "infrared-moderator",
   "metadata": {
    "execution": {
     "iopub.execute_input": "2021-07-02T08:22:58.798222Z",
     "iopub.status.busy": "2021-07-02T08:22:58.797624Z",
     "iopub.status.idle": "2021-07-02T08:22:58.801893Z",
     "shell.execute_reply": "2021-07-02T08:22:58.802390Z",
     "shell.execute_reply.started": "2021-07-02T06:04:18.509239Z"
    },
    "papermill": {
     "duration": 0.039866,
     "end_time": "2021-07-02T08:22:58.802569",
     "exception": false,
     "start_time": "2021-07-02T08:22:58.762703",
     "status": "completed"
    },
    "tags": []
   },
   "outputs": [
    {
     "data": {
      "text/plain": [
       "(7613, 5)"
      ]
     },
     "execution_count": 5,
     "metadata": {},
     "output_type": "execute_result"
    }
   ],
   "source": [
    "train.shape"
   ]
  },
  {
   "cell_type": "code",
   "execution_count": 6,
   "id": "clear-terminal",
   "metadata": {
    "execution": {
     "iopub.execute_input": "2021-07-02T08:22:58.871311Z",
     "iopub.status.busy": "2021-07-02T08:22:58.870635Z",
     "iopub.status.idle": "2021-07-02T08:22:59.724101Z",
     "shell.execute_reply": "2021-07-02T08:22:59.723552Z",
     "shell.execute_reply.started": "2021-07-02T07:11:01.668557Z"
    },
    "papermill": {
     "duration": 0.889044,
     "end_time": "2021-07-02T08:22:59.724254",
     "exception": false,
     "start_time": "2021-07-02T08:22:58.835210",
     "status": "completed"
    },
    "tags": []
   },
   "outputs": [],
   "source": [
    "from nltk.corpus import stopwords\n",
    "import nltk, os, re, string\n",
    "stop = set(stopwords.words('english'))\n",
    "punctuation = list(string.punctuation)\n",
    "stop.update(punctuation)\n",
    "\n",
    "\n",
    "def remove_stopwords(text):\n",
    "    final_text = []\n",
    "    for i in text.split():\n",
    "        if i.strip().lower() not in stop:\n",
    "            final_text.append(i.strip())\n",
    "    return \" \".join(final_text)\n",
    "\n",
    "train['text']=train['text'].apply(remove_stopwords)\n",
    "test['text']=test['text'].apply(remove_stopwords)"
   ]
  },
  {
   "cell_type": "code",
   "execution_count": 7,
   "id": "first-strike",
   "metadata": {
    "execution": {
     "iopub.execute_input": "2021-07-02T08:22:59.801736Z",
     "iopub.status.busy": "2021-07-02T08:22:59.801030Z",
     "iopub.status.idle": "2021-07-02T08:22:59.804276Z",
     "shell.execute_reply": "2021-07-02T08:22:59.803785Z",
     "shell.execute_reply.started": "2021-07-02T07:11:07.587658Z"
    },
    "papermill": {
     "duration": 0.046711,
     "end_time": "2021-07-02T08:22:59.804439",
     "exception": false,
     "start_time": "2021-07-02T08:22:59.757728",
     "status": "completed"
    },
    "tags": []
   },
   "outputs": [
    {
     "data": {
      "text/html": [
       "<div>\n",
       "<style scoped>\n",
       "    .dataframe tbody tr th:only-of-type {\n",
       "        vertical-align: middle;\n",
       "    }\n",
       "\n",
       "    .dataframe tbody tr th {\n",
       "        vertical-align: top;\n",
       "    }\n",
       "\n",
       "    .dataframe thead th {\n",
       "        text-align: right;\n",
       "    }\n",
       "</style>\n",
       "<table border=\"1\" class=\"dataframe\">\n",
       "  <thead>\n",
       "    <tr style=\"text-align: right;\">\n",
       "      <th></th>\n",
       "      <th>id</th>\n",
       "      <th>keyword</th>\n",
       "      <th>location</th>\n",
       "      <th>text</th>\n",
       "    </tr>\n",
       "  </thead>\n",
       "  <tbody>\n",
       "    <tr>\n",
       "      <th>0</th>\n",
       "      <td>0</td>\n",
       "      <td>NaN</td>\n",
       "      <td>NaN</td>\n",
       "      <td>happened terrible car crash</td>\n",
       "    </tr>\n",
       "    <tr>\n",
       "      <th>1</th>\n",
       "      <td>2</td>\n",
       "      <td>NaN</td>\n",
       "      <td>NaN</td>\n",
       "      <td>Heard #earthquake different cities, stay safe ...</td>\n",
       "    </tr>\n",
       "    <tr>\n",
       "      <th>2</th>\n",
       "      <td>3</td>\n",
       "      <td>NaN</td>\n",
       "      <td>NaN</td>\n",
       "      <td>forest fire spot pond, geese fleeing across st...</td>\n",
       "    </tr>\n",
       "    <tr>\n",
       "      <th>3</th>\n",
       "      <td>9</td>\n",
       "      <td>NaN</td>\n",
       "      <td>NaN</td>\n",
       "      <td>Apocalypse lighting. #Spokane #wildfires</td>\n",
       "    </tr>\n",
       "    <tr>\n",
       "      <th>4</th>\n",
       "      <td>11</td>\n",
       "      <td>NaN</td>\n",
       "      <td>NaN</td>\n",
       "      <td>Typhoon Soudelor kills 28 China Taiwan</td>\n",
       "    </tr>\n",
       "  </tbody>\n",
       "</table>\n",
       "</div>"
      ],
      "text/plain": [
       "   id keyword location                                               text\n",
       "0   0     NaN      NaN                        happened terrible car crash\n",
       "1   2     NaN      NaN  Heard #earthquake different cities, stay safe ...\n",
       "2   3     NaN      NaN  forest fire spot pond, geese fleeing across st...\n",
       "3   9     NaN      NaN           Apocalypse lighting. #Spokane #wildfires\n",
       "4  11     NaN      NaN             Typhoon Soudelor kills 28 China Taiwan"
      ]
     },
     "execution_count": 7,
     "metadata": {},
     "output_type": "execute_result"
    }
   ],
   "source": [
    "test.head()"
   ]
  },
  {
   "cell_type": "code",
   "execution_count": 8,
   "id": "whole-promise",
   "metadata": {
    "execution": {
     "iopub.execute_input": "2021-07-02T08:22:59.874977Z",
     "iopub.status.busy": "2021-07-02T08:22:59.874267Z",
     "iopub.status.idle": "2021-07-02T08:23:22.534266Z",
     "shell.execute_reply": "2021-07-02T08:23:22.533710Z",
     "shell.execute_reply.started": "2021-07-02T07:11:26.892288Z"
    },
    "papermill": {
     "duration": 22.695981,
     "end_time": "2021-07-02T08:23:22.534452",
     "exception": false,
     "start_time": "2021-07-02T08:22:59.838471",
     "status": "completed"
    },
    "tags": []
   },
   "outputs": [],
   "source": [
    "import nltk\n",
    "from nltk.stem import WordNetLemmatizer\n",
    "import re\n",
    "from nltk.corpus import stopwords\n",
    "\n",
    "lemma = WordNetLemmatizer()\n",
    "def process_text(text):\n",
    "    text = re.sub(\"(@[A-Za-z0-9_]+)|([^0-9A-Za-z \\t])\", \" \",text.lower())\n",
    "    words = nltk.word_tokenize(text)\n",
    "    words = [lemma.lemmatize(word) for word in words if word not in set(stopwords.words(\"english\"))]\n",
    "    text = \" \".join(words)\n",
    "        \n",
    "    return text\n",
    "\n",
    "train[\"text\"] = train[\"text\"].apply(process_text)\n",
    "test[\"text\"] = test[\"text\"].apply(process_text)"
   ]
  },
  {
   "cell_type": "code",
   "execution_count": 9,
   "id": "unlike-forward",
   "metadata": {
    "execution": {
     "iopub.execute_input": "2021-07-02T08:23:22.607922Z",
     "iopub.status.busy": "2021-07-02T08:23:22.607217Z",
     "iopub.status.idle": "2021-07-02T08:23:22.631332Z",
     "shell.execute_reply": "2021-07-02T08:23:22.630711Z",
     "shell.execute_reply.started": "2021-07-02T06:20:16.859514Z"
    },
    "papermill": {
     "duration": 0.063333,
     "end_time": "2021-07-02T08:23:22.631479",
     "exception": false,
     "start_time": "2021-07-02T08:23:22.568146",
     "status": "completed"
    },
    "tags": []
   },
   "outputs": [],
   "source": [
    "import emoji\n",
    "\n",
    "def cleanTweet(txt):\n",
    "    txt = re.sub(r'#','',txt)\n",
    "    txt = re.sub(r'RT : ','',txt)\n",
    "    txt = re.sub(r'\\n','',txt)\n",
    "    # to remove emojis\n",
    "    txt = re.sub(emoji.get_emoji_regexp(), r\"\", txt)\n",
    "    txt = re.sub(r'https?:\\/\\/[A-Za-z0-9\\.\\/]+','',txt)\n",
    "    txt = re.sub(r\"https?://\\S+|www\\.\\S+\",\"\",txt)\n",
    "    txt = re.sub(r\"<.*?>\",\"\",txt)\n",
    "    return txt  "
   ]
  },
  {
   "cell_type": "code",
   "execution_count": 10,
   "id": "controlling-kingston",
   "metadata": {
    "execution": {
     "iopub.execute_input": "2021-07-02T08:23:22.718313Z",
     "iopub.status.busy": "2021-07-02T08:23:22.713173Z",
     "iopub.status.idle": "2021-07-02T08:23:27.004802Z",
     "shell.execute_reply": "2021-07-02T08:23:27.005334Z",
     "shell.execute_reply.started": "2021-07-02T07:11:59.355832Z"
    },
    "papermill": {
     "duration": 4.340708,
     "end_time": "2021-07-02T08:23:27.005523",
     "exception": false,
     "start_time": "2021-07-02T08:23:22.664815",
     "status": "completed"
    },
    "tags": []
   },
   "outputs": [],
   "source": [
    "train[\"text\"] = train[\"text\"].apply(cleanTweet)\n",
    "test[\"text\"] = test[\"text\"].apply(cleanTweet)"
   ]
  },
  {
   "cell_type": "code",
   "execution_count": 11,
   "id": "christian-canadian",
   "metadata": {
    "execution": {
     "iopub.execute_input": "2021-07-02T08:23:27.082827Z",
     "iopub.status.busy": "2021-07-02T08:23:27.081771Z",
     "iopub.status.idle": "2021-07-02T08:23:27.089469Z",
     "shell.execute_reply": "2021-07-02T08:23:27.088856Z",
     "shell.execute_reply.started": "2021-07-02T06:20:27.649604Z"
    },
    "papermill": {
     "duration": 0.048348,
     "end_time": "2021-07-02T08:23:27.089601",
     "exception": false,
     "start_time": "2021-07-02T08:23:27.041253",
     "status": "completed"
    },
    "tags": []
   },
   "outputs": [
    {
     "data": {
      "text/html": [
       "<div>\n",
       "<style scoped>\n",
       "    .dataframe tbody tr th:only-of-type {\n",
       "        vertical-align: middle;\n",
       "    }\n",
       "\n",
       "    .dataframe tbody tr th {\n",
       "        vertical-align: top;\n",
       "    }\n",
       "\n",
       "    .dataframe thead th {\n",
       "        text-align: right;\n",
       "    }\n",
       "</style>\n",
       "<table border=\"1\" class=\"dataframe\">\n",
       "  <thead>\n",
       "    <tr style=\"text-align: right;\">\n",
       "      <th></th>\n",
       "      <th>id</th>\n",
       "      <th>keyword</th>\n",
       "      <th>location</th>\n",
       "      <th>text</th>\n",
       "      <th>target</th>\n",
       "    </tr>\n",
       "  </thead>\n",
       "  <tbody>\n",
       "    <tr>\n",
       "      <th>0</th>\n",
       "      <td>1</td>\n",
       "      <td>NaN</td>\n",
       "      <td>NaN</td>\n",
       "      <td>deed reason earthquake may allah forgive u</td>\n",
       "      <td>1</td>\n",
       "    </tr>\n",
       "    <tr>\n",
       "      <th>1</th>\n",
       "      <td>4</td>\n",
       "      <td>NaN</td>\n",
       "      <td>NaN</td>\n",
       "      <td>forest fire near la ronge sask canada</td>\n",
       "      <td>1</td>\n",
       "    </tr>\n",
       "    <tr>\n",
       "      <th>2</th>\n",
       "      <td>5</td>\n",
       "      <td>NaN</td>\n",
       "      <td>NaN</td>\n",
       "      <td>resident asked shelter place notified officer ...</td>\n",
       "      <td>1</td>\n",
       "    </tr>\n",
       "    <tr>\n",
       "      <th>3</th>\n",
       "      <td>6</td>\n",
       "      <td>NaN</td>\n",
       "      <td>NaN</td>\n",
       "      <td>13 000 people receive wildfire evacuation orde...</td>\n",
       "      <td>1</td>\n",
       "    </tr>\n",
       "    <tr>\n",
       "      <th>4</th>\n",
       "      <td>7</td>\n",
       "      <td>NaN</td>\n",
       "      <td>NaN</td>\n",
       "      <td>got sent photo ruby alaska smoke wildfire pour...</td>\n",
       "      <td>1</td>\n",
       "    </tr>\n",
       "  </tbody>\n",
       "</table>\n",
       "</div>"
      ],
      "text/plain": [
       "   id keyword location                                               text  \\\n",
       "0   1     NaN      NaN         deed reason earthquake may allah forgive u   \n",
       "1   4     NaN      NaN              forest fire near la ronge sask canada   \n",
       "2   5     NaN      NaN  resident asked shelter place notified officer ...   \n",
       "3   6     NaN      NaN  13 000 people receive wildfire evacuation orde...   \n",
       "4   7     NaN      NaN  got sent photo ruby alaska smoke wildfire pour...   \n",
       "\n",
       "   target  \n",
       "0       1  \n",
       "1       1  \n",
       "2       1  \n",
       "3       1  \n",
       "4       1  "
      ]
     },
     "execution_count": 11,
     "metadata": {},
     "output_type": "execute_result"
    }
   ],
   "source": [
    "train.head()"
   ]
  },
  {
   "cell_type": "code",
   "execution_count": 12,
   "id": "amended-amendment",
   "metadata": {
    "execution": {
     "iopub.execute_input": "2021-07-02T08:23:27.167705Z",
     "iopub.status.busy": "2021-07-02T08:23:27.166757Z",
     "iopub.status.idle": "2021-07-02T08:23:27.171362Z",
     "shell.execute_reply": "2021-07-02T08:23:27.170730Z",
     "shell.execute_reply.started": "2021-07-02T07:12:12.737088Z"
    },
    "papermill": {
     "duration": 0.047757,
     "end_time": "2021-07-02T08:23:27.171507",
     "exception": false,
     "start_time": "2021-07-02T08:23:27.123750",
     "status": "completed"
    },
    "tags": []
   },
   "outputs": [
    {
     "data": {
      "text/html": [
       "<div>\n",
       "<style scoped>\n",
       "    .dataframe tbody tr th:only-of-type {\n",
       "        vertical-align: middle;\n",
       "    }\n",
       "\n",
       "    .dataframe tbody tr th {\n",
       "        vertical-align: top;\n",
       "    }\n",
       "\n",
       "    .dataframe thead th {\n",
       "        text-align: right;\n",
       "    }\n",
       "</style>\n",
       "<table border=\"1\" class=\"dataframe\">\n",
       "  <thead>\n",
       "    <tr style=\"text-align: right;\">\n",
       "      <th></th>\n",
       "      <th>id</th>\n",
       "      <th>keyword</th>\n",
       "      <th>location</th>\n",
       "      <th>text</th>\n",
       "    </tr>\n",
       "  </thead>\n",
       "  <tbody>\n",
       "    <tr>\n",
       "      <th>0</th>\n",
       "      <td>0</td>\n",
       "      <td>NaN</td>\n",
       "      <td>NaN</td>\n",
       "      <td>happened terrible car crash</td>\n",
       "    </tr>\n",
       "    <tr>\n",
       "      <th>1</th>\n",
       "      <td>2</td>\n",
       "      <td>NaN</td>\n",
       "      <td>NaN</td>\n",
       "      <td>heard earthquake different city stay safe ever...</td>\n",
       "    </tr>\n",
       "    <tr>\n",
       "      <th>2</th>\n",
       "      <td>3</td>\n",
       "      <td>NaN</td>\n",
       "      <td>NaN</td>\n",
       "      <td>forest fire spot pond goose fleeing across str...</td>\n",
       "    </tr>\n",
       "    <tr>\n",
       "      <th>3</th>\n",
       "      <td>9</td>\n",
       "      <td>NaN</td>\n",
       "      <td>NaN</td>\n",
       "      <td>apocalypse lighting spokane wildfire</td>\n",
       "    </tr>\n",
       "    <tr>\n",
       "      <th>4</th>\n",
       "      <td>11</td>\n",
       "      <td>NaN</td>\n",
       "      <td>NaN</td>\n",
       "      <td>typhoon soudelor kill 28 china taiwan</td>\n",
       "    </tr>\n",
       "  </tbody>\n",
       "</table>\n",
       "</div>"
      ],
      "text/plain": [
       "   id keyword location                                               text\n",
       "0   0     NaN      NaN                        happened terrible car crash\n",
       "1   2     NaN      NaN  heard earthquake different city stay safe ever...\n",
       "2   3     NaN      NaN  forest fire spot pond goose fleeing across str...\n",
       "3   9     NaN      NaN               apocalypse lighting spokane wildfire\n",
       "4  11     NaN      NaN              typhoon soudelor kill 28 china taiwan"
      ]
     },
     "execution_count": 12,
     "metadata": {},
     "output_type": "execute_result"
    }
   ],
   "source": [
    "test.head()"
   ]
  },
  {
   "cell_type": "code",
   "execution_count": 13,
   "id": "subject-education",
   "metadata": {
    "execution": {
     "iopub.execute_input": "2021-07-02T08:23:27.248147Z",
     "iopub.status.busy": "2021-07-02T08:23:27.247229Z",
     "iopub.status.idle": "2021-07-02T08:23:27.251717Z",
     "shell.execute_reply": "2021-07-02T08:23:27.251080Z",
     "shell.execute_reply.started": "2021-07-02T06:20:49.204969Z"
    },
    "papermill": {
     "duration": 0.046242,
     "end_time": "2021-07-02T08:23:27.251843",
     "exception": false,
     "start_time": "2021-07-02T08:23:27.205601",
     "status": "completed"
    },
    "tags": []
   },
   "outputs": [
    {
     "data": {
      "text/plain": [
       "0    4342\n",
       "1    3271\n",
       "Name: target, dtype: int64"
      ]
     },
     "execution_count": 13,
     "metadata": {},
     "output_type": "execute_result"
    }
   ],
   "source": [
    "train.target.value_counts()"
   ]
  },
  {
   "cell_type": "code",
   "execution_count": 14,
   "id": "historic-macro",
   "metadata": {
    "execution": {
     "iopub.execute_input": "2021-07-02T08:23:27.330694Z",
     "iopub.status.busy": "2021-07-02T08:23:27.329691Z",
     "iopub.status.idle": "2021-07-02T08:23:27.332758Z",
     "shell.execute_reply": "2021-07-02T08:23:27.332139Z",
     "shell.execute_reply.started": "2021-07-02T06:22:27.984796Z"
    },
    "papermill": {
     "duration": 0.046395,
     "end_time": "2021-07-02T08:23:27.332891",
     "exception": false,
     "start_time": "2021-07-02T08:23:27.286496",
     "status": "completed"
    },
    "tags": []
   },
   "outputs": [],
   "source": [
    "train[\"length\"] = train[\"text\"].apply(len)"
   ]
  },
  {
   "cell_type": "code",
   "execution_count": 15,
   "id": "pleasant-underground",
   "metadata": {
    "execution": {
     "iopub.execute_input": "2021-07-02T08:23:27.423987Z",
     "iopub.status.busy": "2021-07-02T08:23:27.423203Z",
     "iopub.status.idle": "2021-07-02T08:23:27.913670Z",
     "shell.execute_reply": "2021-07-02T08:23:27.914203Z",
     "shell.execute_reply.started": "2021-07-02T06:22:29.367945Z"
    },
    "papermill": {
     "duration": 0.546635,
     "end_time": "2021-07-02T08:23:27.914383",
     "exception": false,
     "start_time": "2021-07-02T08:23:27.367748",
     "status": "completed"
    },
    "tags": []
   },
   "outputs": [
    {
     "data": {
      "image/png": "[encoded data removed]",
      "text/plain": [
       "<Figure size 1080x360 with 2 Axes>"
      ]
     },
     "metadata": {
      "needs_background": "light"
     },
     "output_type": "display_data"
    }
   ],
   "source": [
    "fig,(ax1,ax2)=plt.subplots(1,2,figsize=(15,5))\n",
    "sns.histplot(train[train[\"target\"] == 1][\"length\"],bins = 30,ax = ax1, kde=True).set(title = \"disaster tweets\")\n",
    "sns.histplot(train[train[\"target\"] == 0][\"length\"],bins = 30,ax = ax2, kde = True).set(title = \"Not disaster tweets\")\n",
    "plt.show()"
   ]
  },
  {
   "cell_type": "code",
   "execution_count": 16,
   "id": "automated-submission",
   "metadata": {
    "execution": {
     "iopub.execute_input": "2021-07-02T08:23:27.998821Z",
     "iopub.status.busy": "2021-07-02T08:23:27.997793Z",
     "iopub.status.idle": "2021-07-02T08:23:28.003410Z",
     "shell.execute_reply": "2021-07-02T08:23:28.002841Z",
     "shell.execute_reply.started": "2021-07-02T06:24:13.118606Z"
    },
    "papermill": {
     "duration": 0.047334,
     "end_time": "2021-07-02T08:23:28.003560",
     "exception": false,
     "start_time": "2021-07-02T08:23:27.956226",
     "status": "completed"
    },
    "tags": []
   },
   "outputs": [],
   "source": [
    "train_disaster = train[train[\"target\"] == 1]\n",
    "train_not_disaster  = train[train[\"target\"] == 0]"
   ]
  },
  {
   "cell_type": "code",
   "execution_count": 17,
   "id": "interpreted-spider",
   "metadata": {
    "execution": {
     "iopub.execute_input": "2021-07-02T08:23:28.080694Z",
     "iopub.status.busy": "2021-07-02T08:23:28.080063Z",
     "iopub.status.idle": "2021-07-02T08:23:28.091667Z",
     "shell.execute_reply": "2021-07-02T08:23:28.092157Z",
     "shell.execute_reply.started": "2021-07-02T06:24:29.949644Z"
    },
    "papermill": {
     "duration": 0.052268,
     "end_time": "2021-07-02T08:23:28.092337",
     "exception": false,
     "start_time": "2021-07-02T08:23:28.040069",
     "status": "completed"
    },
    "tags": []
   },
   "outputs": [
    {
     "data": {
      "text/plain": [
       "count    3271.000000\n",
       "mean       80.237542\n",
       "std        24.947385\n",
       "min         0.000000\n",
       "25%        64.000000\n",
       "50%        84.000000\n",
       "75%       100.000000\n",
       "max       137.000000\n",
       "Name: length, dtype: float64"
      ]
     },
     "execution_count": 17,
     "metadata": {},
     "output_type": "execute_result"
    }
   ],
   "source": [
    "train_disaster.length.describe()"
   ]
  },
  {
   "cell_type": "code",
   "execution_count": 18,
   "id": "altered-rwanda",
   "metadata": {
    "execution": {
     "iopub.execute_input": "2021-07-02T08:23:28.169078Z",
     "iopub.status.busy": "2021-07-02T08:23:28.168401Z",
     "iopub.status.idle": "2021-07-02T08:23:28.177164Z",
     "shell.execute_reply": "2021-07-02T08:23:28.177740Z",
     "shell.execute_reply.started": "2021-07-02T06:24:43.204571Z"
    },
    "papermill": {
     "duration": 0.048517,
     "end_time": "2021-07-02T08:23:28.177917",
     "exception": false,
     "start_time": "2021-07-02T08:23:28.129400",
     "status": "completed"
    },
    "tags": []
   },
   "outputs": [
    {
     "data": {
      "text/plain": [
       "count    4342.000000\n",
       "mean       64.320129\n",
       "std        29.237484\n",
       "min         0.000000\n",
       "25%        41.000000\n",
       "50%        65.000000\n",
       "75%        88.000000\n",
       "max       134.000000\n",
       "Name: length, dtype: float64"
      ]
     },
     "execution_count": 18,
     "metadata": {},
     "output_type": "execute_result"
    }
   ],
   "source": [
    "train_not_disaster.length.describe()"
   ]
  },
  {
   "cell_type": "code",
   "execution_count": 19,
   "id": "approved-stability",
   "metadata": {
    "execution": {
     "iopub.execute_input": "2021-07-02T08:23:28.256615Z",
     "iopub.status.busy": "2021-07-02T08:23:28.255942Z",
     "iopub.status.idle": "2021-07-02T08:23:28.260030Z",
     "shell.execute_reply": "2021-07-02T08:23:28.260549Z",
     "shell.execute_reply.started": "2021-07-02T06:27:49.977333Z"
    },
    "papermill": {
     "duration": 0.044985,
     "end_time": "2021-07-02T08:23:28.260719",
     "exception": false,
     "start_time": "2021-07-02T08:23:28.215734",
     "status": "completed"
    },
    "tags": []
   },
   "outputs": [],
   "source": [
    "path = '/kaggle/input/'\n",
    "EMBEDDING_FILE=f'{path}glove6b50dtxt/glove.6B.50d.txt'\n",
    "\n",
    "# configuration setting\n",
    "MAX_SEQUENCE_LENGTH = 100\n",
    "MAX_VOCAB_SIZE = 20000\n",
    "EMBEDDING_DIM = 50\n",
    "VALIDATION_SPLIT = 0.2\n",
    "BATCH_SIZE = 64\n",
    "EPOCHS = 5"
   ]
  },
  {
   "cell_type": "code",
   "execution_count": 20,
   "id": "helpful-provision",
   "metadata": {
    "execution": {
     "iopub.execute_input": "2021-07-02T08:23:28.337431Z",
     "iopub.status.busy": "2021-07-02T08:23:28.336810Z",
     "iopub.status.idle": "2021-07-02T08:23:28.343172Z",
     "shell.execute_reply": "2021-07-02T08:23:28.343704Z",
     "shell.execute_reply.started": "2021-07-02T06:29:37.045513Z"
    },
    "papermill": {
     "duration": 0.046389,
     "end_time": "2021-07-02T08:23:28.343864",
     "exception": false,
     "start_time": "2021-07-02T08:23:28.297475",
     "status": "completed"
    },
    "tags": []
   },
   "outputs": [],
   "source": [
    "from sklearn.model_selection import train_test_split\n",
    "X, y = train['text'], train['target']\n",
    "X_train, X_test, y_train, y_test = train_test_split(X, y, test_size=0.2, random_state=42)"
   ]
  },
  {
   "cell_type": "code",
   "execution_count": 21,
   "id": "adopted-korean",
   "metadata": {
    "execution": {
     "iopub.execute_input": "2021-07-02T08:23:28.420607Z",
     "iopub.status.busy": "2021-07-02T08:23:28.419981Z",
     "iopub.status.idle": "2021-07-02T08:23:38.169718Z",
     "shell.execute_reply": "2021-07-02T08:23:38.169031Z",
     "shell.execute_reply.started": "2021-07-02T06:29:50.510875Z"
    },
    "papermill": {
     "duration": 9.789194,
     "end_time": "2021-07-02T08:23:38.169852",
     "exception": false,
     "start_time": "2021-07-02T08:23:28.380658",
     "status": "completed"
    },
    "tags": []
   },
   "outputs": [
    {
     "name": "stdout",
     "output_type": "stream",
     "text": [
      "Loading word vectors...\n",
      "Found 400000 word vectors.\n"
     ]
    }
   ],
   "source": [
    "# load in pre-trained word vectors\n",
    "print('Loading word vectors...')\n",
    "word2vec = {}\n",
    "with open(EMBEDDING_FILE) as f:\n",
    "  # is just a space-separated text file in the format:\n",
    "  # word vec[0] vec[1] vec[2] ...\n",
    "  for line in f:\n",
    "    values = line.split()\n",
    "    word = values[0]\n",
    "    vec = np.asarray(values[1:], dtype='float32')\n",
    "    word2vec[word] = vec\n",
    "print('Found %s word vectors.' % len(word2vec))"
   ]
  },
  {
   "cell_type": "code",
   "execution_count": 22,
   "id": "incorrect-portable",
   "metadata": {
    "execution": {
     "iopub.execute_input": "2021-07-02T08:23:38.288980Z",
     "iopub.status.busy": "2021-07-02T08:23:38.283834Z",
     "iopub.status.idle": "2021-07-02T08:23:38.526739Z",
     "shell.execute_reply": "2021-07-02T08:23:38.525765Z",
     "shell.execute_reply.started": "2021-07-02T06:55:04.705921Z"
    },
    "papermill": {
     "duration": 0.319737,
     "end_time": "2021-07-02T08:23:38.526946",
     "exception": false,
     "start_time": "2021-07-02T08:23:38.207209",
     "status": "completed"
    },
    "tags": []
   },
   "outputs": [
    {
     "name": "stdout",
     "output_type": "stream",
     "text": [
      "Shape of data tensor: (6090, 100)\n"
     ]
    }
   ],
   "source": [
    "# convert the sentences (strings) into integers\n",
    "tokenizer = Tokenizer(num_words=MAX_VOCAB_SIZE)\n",
    "tokenizer.fit_on_texts(list(X_train))\n",
    "X_train = tokenizer.texts_to_sequences(list(X_train))\n",
    "\n",
    "# pad sequences so that we get a N x T matrix\n",
    "X_train = pad_sequences(X_train, maxlen=MAX_SEQUENCE_LENGTH)\n",
    "print('Shape of data tensor:', X_train.shape)"
   ]
  },
  {
   "cell_type": "code",
   "execution_count": 23,
   "id": "starting-coalition",
   "metadata": {
    "execution": {
     "iopub.execute_input": "2021-07-02T08:23:38.626603Z",
     "iopub.status.busy": "2021-07-02T08:23:38.621543Z",
     "iopub.status.idle": "2021-07-02T08:23:38.648951Z",
     "shell.execute_reply": "2021-07-02T08:23:38.648433Z",
     "shell.execute_reply.started": "2021-07-02T06:55:44.011314Z"
    },
    "papermill": {
     "duration": 0.083657,
     "end_time": "2021-07-02T08:23:38.649092",
     "exception": false,
     "start_time": "2021-07-02T08:23:38.565435",
     "status": "completed"
    },
    "tags": []
   },
   "outputs": [
    {
     "name": "stdout",
     "output_type": "stream",
     "text": [
      "Shape of data tensor: (1523, 100)\n"
     ]
    }
   ],
   "source": [
    "X_test = tokenizer.texts_to_sequences(list(X_test))\n",
    "\n",
    "# pad sequences so that we get a N x T matrix\n",
    "X_test = pad_sequences(X_test, maxlen=MAX_SEQUENCE_LENGTH)\n",
    "print('Shape of data tensor:', X_test.shape)"
   ]
  },
  {
   "cell_type": "code",
   "execution_count": 24,
   "id": "great-reference",
   "metadata": {
    "execution": {
     "iopub.execute_input": "2021-07-02T08:23:38.769905Z",
     "iopub.status.busy": "2021-07-02T08:23:38.749076Z",
     "iopub.status.idle": "2021-07-02T08:23:38.810476Z",
     "shell.execute_reply": "2021-07-02T08:23:38.809841Z",
     "shell.execute_reply.started": "2021-07-02T07:14:29.799139Z"
    },
    "papermill": {
     "duration": 0.123504,
     "end_time": "2021-07-02T08:23:38.810629",
     "exception": false,
     "start_time": "2021-07-02T08:23:38.687125",
     "status": "completed"
    },
    "tags": []
   },
   "outputs": [
    {
     "name": "stdout",
     "output_type": "stream",
     "text": [
      "Shape of data tensor: (3263, 100)\n"
     ]
    }
   ],
   "source": [
    "test = tokenizer.texts_to_sequences(list(test['text']))\n",
    "\n",
    "# pad sequences so that we get a N x T matrix\n",
    "test = pad_sequences(test, maxlen=MAX_SEQUENCE_LENGTH)\n",
    "print('Shape of data tensor:', test.shape)"
   ]
  },
  {
   "cell_type": "code",
   "execution_count": 25,
   "id": "relative-character",
   "metadata": {
    "execution": {
     "iopub.execute_input": "2021-07-02T08:23:38.891994Z",
     "iopub.status.busy": "2021-07-02T08:23:38.891339Z",
     "iopub.status.idle": "2021-07-02T08:23:38.895375Z",
     "shell.execute_reply": "2021-07-02T08:23:38.894796Z",
     "shell.execute_reply.started": "2021-07-02T06:56:03.359429Z"
    },
    "papermill": {
     "duration": 0.046569,
     "end_time": "2021-07-02T08:23:38.895523",
     "exception": false,
     "start_time": "2021-07-02T08:23:38.848954",
     "status": "completed"
    },
    "tags": []
   },
   "outputs": [
    {
     "name": "stdout",
     "output_type": "stream",
     "text": [
      "Found 15471 unique tokens.\n"
     ]
    }
   ],
   "source": [
    "# get word -> integer mapping\n",
    "word2idx = tokenizer.word_index\n",
    "print('Found %s unique tokens.' % len(word2idx))"
   ]
  },
  {
   "cell_type": "code",
   "execution_count": 26,
   "id": "driven-canyon",
   "metadata": {
    "execution": {
     "iopub.execute_input": "2021-07-02T08:23:38.978778Z",
     "iopub.status.busy": "2021-07-02T08:23:38.978089Z",
     "iopub.status.idle": "2021-07-02T08:23:39.009240Z",
     "shell.execute_reply": "2021-07-02T08:23:39.009771Z",
     "shell.execute_reply.started": "2021-07-02T06:56:19.889876Z"
    },
    "papermill": {
     "duration": 0.075537,
     "end_time": "2021-07-02T08:23:39.009953",
     "exception": false,
     "start_time": "2021-07-02T08:23:38.934416",
     "status": "completed"
    },
    "tags": []
   },
   "outputs": [
    {
     "name": "stdout",
     "output_type": "stream",
     "text": [
      "Filling pre-trained embeddings...\n"
     ]
    }
   ],
   "source": [
    "# prepare embedding matrix\n",
    "print('Filling pre-trained embeddings...')\n",
    "num_words = min(MAX_VOCAB_SIZE, len(word2idx) + 1)\n",
    "embedding_matrix = np.zeros((num_words, EMBEDDING_DIM))\n",
    "for word, i in word2idx.items():\n",
    "  if i < MAX_VOCAB_SIZE:\n",
    "    embedding_vector = word2vec.get(word)\n",
    "    if embedding_vector is not None:\n",
    "      # words not found in embedding index will be all zeros.\n",
    "      embedding_matrix[i] = embedding_vector"
   ]
  },
  {
   "cell_type": "code",
   "execution_count": 27,
   "id": "inner-capture",
   "metadata": {
    "execution": {
     "iopub.execute_input": "2021-07-02T08:23:39.094394Z",
     "iopub.status.busy": "2021-07-02T08:23:39.093570Z",
     "iopub.status.idle": "2021-07-02T08:23:39.109502Z",
     "shell.execute_reply": "2021-07-02T08:23:39.108943Z",
     "shell.execute_reply.started": "2021-07-02T06:56:37.960427Z"
    },
    "papermill": {
     "duration": 0.060147,
     "end_time": "2021-07-02T08:23:39.109672",
     "exception": false,
     "start_time": "2021-07-02T08:23:39.049525",
     "status": "completed"
    },
    "tags": []
   },
   "outputs": [],
   "source": [
    "# load pre-trained word embeddings into an Embedding layer\n",
    "# note that we set trainable = False so as to keep the embeddings fixed\n",
    "embedding_layer = Embedding(\n",
    "  num_words,\n",
    "  EMBEDDING_DIM,\n",
    "  weights=[embedding_matrix],\n",
    "  input_length=MAX_SEQUENCE_LENGTH,\n",
    "  trainable=False\n",
    ")"
   ]
  },
  {
   "cell_type": "code",
   "execution_count": 28,
   "id": "alive-closer",
   "metadata": {
    "execution": {
     "iopub.execute_input": "2021-07-02T08:23:39.197275Z",
     "iopub.status.busy": "2021-07-02T08:23:39.196576Z",
     "iopub.status.idle": "2021-07-02T08:23:39.812133Z",
     "shell.execute_reply": "2021-07-02T08:23:39.812924Z",
     "shell.execute_reply.started": "2021-07-02T06:56:50.680339Z"
    },
    "papermill": {
     "duration": 0.664595,
     "end_time": "2021-07-02T08:23:39.813196",
     "exception": false,
     "start_time": "2021-07-02T08:23:39.148601",
     "status": "completed"
    },
    "tags": []
   },
   "outputs": [
    {
     "name": "stdout",
     "output_type": "stream",
     "text": [
      "Building model...\n",
      "Model: \"model\"\n",
      "_________________________________________________________________\n",
      "Layer (type)                 Output Shape              Param #   \n",
      "=================================================================\n",
      "input_1 (InputLayer)         [(None, 100)]             0         \n",
      "_________________________________________________________________\n",
      "embedding (Embedding)        (None, 100, 50)           773600    \n",
      "_________________________________________________________________\n",
      "bidirectional (Bidirectional (None, 100, 30)           7920      \n",
      "_________________________________________________________________\n",
      "global_max_pooling1d (Global (None, 30)                0         \n",
      "_________________________________________________________________\n",
      "dense (Dense)                (None, 1)                 31        \n",
      "=================================================================\n",
      "Total params: 781,551\n",
      "Trainable params: 7,951\n",
      "Non-trainable params: 773,600\n",
      "_________________________________________________________________\n"
     ]
    }
   ],
   "source": [
    "print('Building model...')\n",
    "\n",
    "# create an LSTM network with a single LSTM\n",
    "input_ = Input(shape=(MAX_SEQUENCE_LENGTH,))\n",
    "x = embedding_layer(input_)\n",
    "# x = LSTM(15, return_sequences=True)(x)\n",
    "x = Bidirectional(LSTM(15, return_sequences=True))(x)\n",
    "x = GlobalMaxPool1D()(x)\n",
    "output = Dense(1, activation=\"sigmoid\")(x)\n",
    "\n",
    "model = Model(input_, output)\n",
    "model.compile(\n",
    "  loss='binary_crossentropy',\n",
    "  optimizer=Adam(lr=0.01),\n",
    "  metrics=['accuracy']\n",
    ")\n",
    "model.summary()"
   ]
  },
  {
   "cell_type": "code",
   "execution_count": 29,
   "id": "binding-refrigerator",
   "metadata": {
    "execution": {
     "iopub.execute_input": "2021-07-02T08:23:39.898789Z",
     "iopub.status.busy": "2021-07-02T08:23:39.898093Z",
     "iopub.status.idle": "2021-07-02T08:26:42.276524Z",
     "shell.execute_reply": "2021-07-02T08:26:42.277078Z",
     "shell.execute_reply.started": "2021-07-02T06:57:58.160783Z"
    },
    "papermill": {
     "duration": 182.423928,
     "end_time": "2021-07-02T08:26:42.277273",
     "exception": false,
     "start_time": "2021-07-02T08:23:39.853345",
     "status": "completed"
    },
    "tags": []
   },
   "outputs": [
    {
     "name": "stdout",
     "output_type": "stream",
     "text": [
      "Training model...\n",
      "Epoch 1/50\n",
      "77/77 [==============================] - 8s 61ms/step - loss: 0.5355 - accuracy: 0.7488 - val_loss: 0.4811 - val_accuracy: 0.7701\n",
      "Epoch 2/50\n",
      "77/77 [==============================] - 4s 46ms/step - loss: 0.4180 - accuracy: 0.8119 - val_loss: 0.4728 - val_accuracy: 0.7865\n",
      "Epoch 3/50\n",
      "77/77 [==============================] - 4s 46ms/step - loss: 0.3791 - accuracy: 0.8365 - val_loss: 0.4701 - val_accuracy: 0.7923\n",
      "Epoch 4/50\n",
      "77/77 [==============================] - 3s 45ms/step - loss: 0.3397 - accuracy: 0.8535 - val_loss: 0.4928 - val_accuracy: 0.7775\n",
      "Epoch 5/50\n",
      "77/77 [==============================] - 4s 46ms/step - loss: 0.3112 - accuracy: 0.8694 - val_loss: 0.5082 - val_accuracy: 0.7874\n",
      "Epoch 6/50\n",
      "77/77 [==============================] - 4s 48ms/step - loss: 0.2913 - accuracy: 0.8797 - val_loss: 0.5380 - val_accuracy: 0.7800\n",
      "Epoch 7/50\n",
      "77/77 [==============================] - 3s 45ms/step - loss: 0.2577 - accuracy: 0.8943 - val_loss: 0.5438 - val_accuracy: 0.7701\n",
      "Epoch 8/50\n",
      "77/77 [==============================] - 4s 47ms/step - loss: 0.2380 - accuracy: 0.9061 - val_loss: 0.5527 - val_accuracy: 0.7800\n",
      "Epoch 9/50\n",
      "77/77 [==============================] - 4s 46ms/step - loss: 0.2117 - accuracy: 0.9185 - val_loss: 0.5941 - val_accuracy: 0.7742\n",
      "Epoch 10/50\n",
      "77/77 [==============================] - 4s 46ms/step - loss: 0.2095 - accuracy: 0.9181 - val_loss: 0.5946 - val_accuracy: 0.7718\n",
      "Epoch 11/50\n",
      "77/77 [==============================] - 4s 46ms/step - loss: 0.1896 - accuracy: 0.9303 - val_loss: 0.6394 - val_accuracy: 0.7783\n",
      "Epoch 12/50\n",
      "77/77 [==============================] - 3s 44ms/step - loss: 0.1649 - accuracy: 0.9436 - val_loss: 0.6945 - val_accuracy: 0.7644\n",
      "Epoch 13/50\n",
      "77/77 [==============================] - 3s 45ms/step - loss: 0.1615 - accuracy: 0.9377 - val_loss: 0.6808 - val_accuracy: 0.7750\n",
      "Epoch 14/50\n",
      "77/77 [==============================] - 4s 46ms/step - loss: 0.1362 - accuracy: 0.9526 - val_loss: 0.7026 - val_accuracy: 0.7718\n",
      "Epoch 15/50\n",
      "77/77 [==============================] - 4s 46ms/step - loss: 0.1072 - accuracy: 0.9639 - val_loss: 0.7505 - val_accuracy: 0.7775\n",
      "Epoch 16/50\n",
      "77/77 [==============================] - 4s 49ms/step - loss: 0.1027 - accuracy: 0.9707 - val_loss: 0.7517 - val_accuracy: 0.7800\n",
      "Epoch 17/50\n",
      "77/77 [==============================] - 4s 46ms/step - loss: 0.0997 - accuracy: 0.9681 - val_loss: 0.7701 - val_accuracy: 0.7800\n",
      "Epoch 18/50\n",
      "77/77 [==============================] - 3s 45ms/step - loss: 0.1391 - accuracy: 0.9438 - val_loss: 0.7673 - val_accuracy: 0.7471\n",
      "Epoch 19/50\n",
      "77/77 [==============================] - 4s 46ms/step - loss: 0.1362 - accuracy: 0.9492 - val_loss: 0.7658 - val_accuracy: 0.7734\n",
      "Epoch 20/50\n",
      "77/77 [==============================] - 4s 47ms/step - loss: 0.1105 - accuracy: 0.9651 - val_loss: 0.7815 - val_accuracy: 0.7808\n",
      "Epoch 21/50\n",
      "77/77 [==============================] - 3s 45ms/step - loss: 0.0905 - accuracy: 0.9712 - val_loss: 0.8070 - val_accuracy: 0.7734\n",
      "Epoch 22/50\n",
      "77/77 [==============================] - 4s 46ms/step - loss: 0.0771 - accuracy: 0.9784 - val_loss: 0.8529 - val_accuracy: 0.7635\n",
      "Epoch 23/50\n",
      "77/77 [==============================] - 4s 46ms/step - loss: 0.0884 - accuracy: 0.9693 - val_loss: 0.8325 - val_accuracy: 0.7611\n",
      "Epoch 24/50\n",
      "77/77 [==============================] - 4s 47ms/step - loss: 0.1018 - accuracy: 0.9624 - val_loss: 0.8767 - val_accuracy: 0.7685\n",
      "Epoch 25/50\n",
      "77/77 [==============================] - 4s 48ms/step - loss: 0.0888 - accuracy: 0.9690 - val_loss: 0.8243 - val_accuracy: 0.7824\n",
      "Epoch 26/50\n",
      "77/77 [==============================] - 4s 47ms/step - loss: 0.0798 - accuracy: 0.9719 - val_loss: 0.8716 - val_accuracy: 0.7718\n",
      "Epoch 27/50\n",
      "77/77 [==============================] - 4s 46ms/step - loss: 0.0717 - accuracy: 0.9767 - val_loss: 0.8808 - val_accuracy: 0.7849\n",
      "Epoch 28/50\n",
      "77/77 [==============================] - 4s 46ms/step - loss: 0.0649 - accuracy: 0.9794 - val_loss: 0.8852 - val_accuracy: 0.7742\n",
      "Epoch 29/50\n",
      "77/77 [==============================] - 3s 45ms/step - loss: 0.0521 - accuracy: 0.9841 - val_loss: 0.9223 - val_accuracy: 0.7759\n",
      "Epoch 30/50\n",
      "77/77 [==============================] - 4s 46ms/step - loss: 0.0570 - accuracy: 0.9805 - val_loss: 0.9034 - val_accuracy: 0.7742\n",
      "Epoch 31/50\n",
      "77/77 [==============================] - 4s 46ms/step - loss: 0.0548 - accuracy: 0.9823 - val_loss: 0.9270 - val_accuracy: 0.7734\n",
      "Epoch 32/50\n",
      "77/77 [==============================] - 3s 45ms/step - loss: 0.0469 - accuracy: 0.9848 - val_loss: 0.9634 - val_accuracy: 0.7718\n",
      "Epoch 33/50\n",
      "77/77 [==============================] - 4s 48ms/step - loss: 0.0458 - accuracy: 0.9812 - val_loss: 0.9420 - val_accuracy: 0.7627\n",
      "Epoch 34/50\n",
      "77/77 [==============================] - 4s 48ms/step - loss: 0.0489 - accuracy: 0.9830 - val_loss: 1.0145 - val_accuracy: 0.7767\n",
      "Epoch 35/50\n",
      "77/77 [==============================] - 4s 46ms/step - loss: 0.0434 - accuracy: 0.9860 - val_loss: 0.9692 - val_accuracy: 0.7750\n",
      "Epoch 36/50\n",
      "77/77 [==============================] - 4s 47ms/step - loss: 0.0456 - accuracy: 0.9846 - val_loss: 0.9979 - val_accuracy: 0.7775\n",
      "Epoch 37/50\n",
      "77/77 [==============================] - 3s 45ms/step - loss: 0.0430 - accuracy: 0.9841 - val_loss: 0.9668 - val_accuracy: 0.7767\n",
      "Epoch 38/50\n",
      "77/77 [==============================] - 4s 46ms/step - loss: 0.0466 - accuracy: 0.9814 - val_loss: 1.0197 - val_accuracy: 0.7857\n",
      "Epoch 39/50\n",
      "77/77 [==============================] - 4s 46ms/step - loss: 0.0410 - accuracy: 0.9837 - val_loss: 1.0513 - val_accuracy: 0.7709\n",
      "Epoch 40/50\n",
      "77/77 [==============================] - 4s 46ms/step - loss: 0.0387 - accuracy: 0.9843 - val_loss: 1.0429 - val_accuracy: 0.7734\n",
      "Epoch 41/50\n",
      "77/77 [==============================] - 4s 46ms/step - loss: 0.0330 - accuracy: 0.9882 - val_loss: 1.0770 - val_accuracy: 0.7800\n",
      "Epoch 42/50\n",
      "77/77 [==============================] - 4s 48ms/step - loss: 0.0378 - accuracy: 0.9850 - val_loss: 1.0968 - val_accuracy: 0.7578\n",
      "Epoch 43/50\n",
      "77/77 [==============================] - 4s 49ms/step - loss: 0.0357 - accuracy: 0.9867 - val_loss: 1.1042 - val_accuracy: 0.7742\n",
      "Epoch 44/50\n",
      "77/77 [==============================] - 4s 46ms/step - loss: 0.0373 - accuracy: 0.9830 - val_loss: 1.0998 - val_accuracy: 0.7718\n",
      "Epoch 45/50\n",
      "77/77 [==============================] - 4s 48ms/step - loss: 0.0352 - accuracy: 0.9875 - val_loss: 1.1430 - val_accuracy: 0.7865\n",
      "Epoch 46/50\n",
      "77/77 [==============================] - 4s 47ms/step - loss: 0.0309 - accuracy: 0.9865 - val_loss: 1.1168 - val_accuracy: 0.7709\n",
      "Epoch 47/50\n",
      "77/77 [==============================] - 4s 46ms/step - loss: 0.0327 - accuracy: 0.9864 - val_loss: 1.1356 - val_accuracy: 0.7726\n",
      "Epoch 48/50\n",
      "77/77 [==============================] - 4s 46ms/step - loss: 0.0332 - accuracy: 0.9838 - val_loss: 1.1401 - val_accuracy: 0.7709\n",
      "Epoch 49/50\n",
      "77/77 [==============================] - 4s 47ms/step - loss: 0.0298 - accuracy: 0.9871 - val_loss: 1.1858 - val_accuracy: 0.7677\n",
      "Epoch 50/50\n",
      "77/77 [==============================] - 4s 46ms/step - loss: 0.0385 - accuracy: 0.9860 - val_loss: 1.1925 - val_accuracy: 0.7611\n"
     ]
    }
   ],
   "source": [
    "print('Training model...')\n",
    "r = model.fit(\n",
    "  X_train,\n",
    "  y_train,\n",
    "  batch_size=BATCH_SIZE,\n",
    "  epochs=50,\n",
    "  validation_split=VALIDATION_SPLIT\n",
    ")"
   ]
  },
  {
   "cell_type": "code",
   "execution_count": 30,
   "id": "affected-influence",
   "metadata": {
    "execution": {
     "iopub.execute_input": "2021-07-02T08:26:43.599371Z",
     "iopub.status.busy": "2021-07-02T08:26:43.594880Z",
     "iopub.status.idle": "2021-07-02T08:26:43.731982Z",
     "shell.execute_reply": "2021-07-02T08:26:43.731428Z",
     "shell.execute_reply.started": "2021-07-02T07:01:14.642065Z"
    },
    "papermill": {
     "duration": 0.811163,
     "end_time": "2021-07-02T08:26:43.732118",
     "exception": false,
     "start_time": "2021-07-02T08:26:42.920955",
     "status": "completed"
    },
    "tags": []
   },
   "outputs": [
    {
     "data": {
      "image/png": "[encoded data removed]",
      "text/plain": [
       "<Figure size 432x288 with 1 Axes>"
      ]
     },
     "metadata": {
      "needs_background": "light"
     },
     "output_type": "display_data"
    }
   ],
   "source": [
    "# plot some data\n",
    "plt.plot(r.history['loss'], label='loss')\n",
    "plt.plot(r.history['val_loss'], label='val_loss')\n",
    "plt.legend()\n",
    "plt.show()"
   ]
  },
  {
   "cell_type": "code",
   "execution_count": 31,
   "id": "consistent-terrace",
   "metadata": {
    "execution": {
     "iopub.execute_input": "2021-07-02T08:26:45.152033Z",
     "iopub.status.busy": "2021-07-02T08:26:45.130616Z",
     "iopub.status.idle": "2021-07-02T08:26:45.275239Z",
     "shell.execute_reply": "2021-07-02T08:26:45.274727Z",
     "shell.execute_reply.started": "2021-07-02T07:01:29.305938Z"
    },
    "papermill": {
     "duration": 0.859936,
     "end_time": "2021-07-02T08:26:45.275399",
     "exception": false,
     "start_time": "2021-07-02T08:26:44.415463",
     "status": "completed"
    },
    "tags": []
   },
   "outputs": [
    {
     "data": {
      "image/png": "[encoded data removed]",
      "text/plain": [
       "<Figure size 432x288 with 1 Axes>"
      ]
     },
     "metadata": {
      "needs_background": "light"
     },
     "output_type": "display_data"
    }
   ],
   "source": [
    "# Plotting accuracies\n",
    "plt.plot(r.history['accuracy'], label='acc')\n",
    "plt.plot(r.history['val_accuracy'], label='val_acc')\n",
    "plt.legend()\n",
    "plt.show()"
   ]
  },
  {
   "cell_type": "code",
   "execution_count": 32,
   "id": "three-asbestos",
   "metadata": {
    "execution": {
     "iopub.execute_input": "2021-07-02T08:26:46.582823Z",
     "iopub.status.busy": "2021-07-02T08:26:46.581798Z",
     "iopub.status.idle": "2021-07-02T08:26:49.405121Z",
     "shell.execute_reply": "2021-07-02T08:26:49.404478Z",
     "shell.execute_reply.started": "2021-07-02T07:01:44.852522Z"
    },
    "papermill": {
     "duration": 3.478325,
     "end_time": "2021-07-02T08:26:49.405270",
     "exception": false,
     "start_time": "2021-07-02T08:26:45.926945",
     "status": "completed"
    },
    "tags": []
   },
   "outputs": [
    {
     "name": "stdout",
     "output_type": "stream",
     "text": [
      "191/191 [==============================] - 2s 12ms/step - loss: 0.3007 - accuracy: 0.9266\n",
      "Accuracy of the model on Training Data is -  92.6600992679596\n",
      "48/48 [==============================] - 1s 11ms/step - loss: 1.0735 - accuracy: 0.7584\n",
      "Accuracy of the model on Testing Data is -  75.8371651172638\n"
     ]
    }
   ],
   "source": [
    "print(\"Accuracy of the model on Training Data is - \" , model.evaluate(X_train,y_train)[1]*100)\n",
    "print(\"Accuracy of the model on Testing Data is - \" , model.evaluate(X_test,y_test)[1]*100)"
   ]
  },
  {
   "cell_type": "code",
   "execution_count": 33,
   "id": "pregnant-diploma",
   "metadata": {
    "execution": {
     "iopub.execute_input": "2021-07-02T08:26:50.746071Z",
     "iopub.status.busy": "2021-07-02T08:26:50.744915Z",
     "iopub.status.idle": "2021-07-02T08:26:51.924359Z",
     "shell.execute_reply": "2021-07-02T08:26:51.923814Z",
     "shell.execute_reply.started": "2021-07-02T07:02:05.235223Z"
    },
    "papermill": {
     "duration": 1.851837,
     "end_time": "2021-07-02T08:26:51.924510",
     "exception": false,
     "start_time": "2021-07-02T08:26:50.072673",
     "status": "completed"
    },
    "tags": []
   },
   "outputs": [
    {
     "data": {
      "text/plain": [
       "array([[0.6229027 ],\n",
       "       [0.11763141],\n",
       "       [0.7200059 ],\n",
       "       [0.0117639 ],\n",
       "       [0.78144026]], dtype=float32)"
      ]
     },
     "execution_count": 33,
     "metadata": {},
     "output_type": "execute_result"
    }
   ],
   "source": [
    "pred = model.predict(X_test)\n",
    "pred[:5]"
   ]
  },
  {
   "cell_type": "code",
   "execution_count": 34,
   "id": "conventional-recorder",
   "metadata": {
    "execution": {
     "iopub.execute_input": "2021-07-02T08:26:53.264761Z",
     "iopub.status.busy": "2021-07-02T08:26:53.264074Z",
     "iopub.status.idle": "2021-07-02T08:26:53.445520Z",
     "shell.execute_reply": "2021-07-02T08:26:53.444980Z",
     "shell.execute_reply.started": "2021-07-02T07:03:32.799407Z"
    },
    "papermill": {
     "duration": 0.856671,
     "end_time": "2021-07-02T08:26:53.445666",
     "exception": false,
     "start_time": "2021-07-02T08:26:52.588995",
     "status": "completed"
    },
    "tags": []
   },
   "outputs": [
    {
     "data": {
      "image/png": "[encoded data removed]",
      "text/plain": [
       "<Figure size 432x288 with 2 Axes>"
      ]
     },
     "metadata": {
      "needs_background": "light"
     },
     "output_type": "display_data"
    }
   ],
   "source": [
    "from sklearn.metrics import classification_report,confusion_matrix,accuracy_score\n",
    "\n",
    "cm = confusion_matrix(y_test,pred.round())\n",
    "cm = pd.DataFrame(cm , index = ['Not_disaster','Disaster'] , columns = ['Not_disaster','Disaster'])\n",
    "plt.figure(figsize = (6,4))\n",
    "sns.heatmap(cm,cmap= \"Blues\", linecolor = 'black' , linewidth = 1 , annot = True, fmt='' , xticklabels = ['Not_disaster','Disaster'] , yticklabels = ['Not_disaster','Disaster'])\n",
    "plt.ylabel('Actual')\n",
    "plt.xlabel('Predicted')\n",
    "plt.show()"
   ]
  },
  {
   "cell_type": "code",
   "execution_count": 35,
   "id": "flexible-action",
   "metadata": {
    "execution": {
     "iopub.execute_input": "2021-07-02T08:26:54.788260Z",
     "iopub.status.busy": "2021-07-02T08:26:54.787346Z",
     "iopub.status.idle": "2021-07-02T08:26:54.798894Z",
     "shell.execute_reply": "2021-07-02T08:26:54.799420Z",
     "shell.execute_reply.started": "2021-07-02T07:04:53.964839Z"
    },
    "papermill": {
     "duration": 0.684843,
     "end_time": "2021-07-02T08:26:54.799601",
     "exception": false,
     "start_time": "2021-07-02T08:26:54.114758",
     "status": "completed"
    },
    "tags": []
   },
   "outputs": [
    {
     "name": "stdout",
     "output_type": "stream",
     "text": [
      "              precision    recall  f1-score   support\n",
      "\n",
      "           0       0.83      0.73      0.78       874\n",
      "           1       0.69      0.79      0.74       649\n",
      "\n",
      "    accuracy                           0.76      1523\n",
      "   macro avg       0.76      0.76      0.76      1523\n",
      "weighted avg       0.77      0.76      0.76      1523\n",
      "\n"
     ]
    }
   ],
   "source": [
    "print(classification_report(y_test,pred.round()))"
   ]
  },
  {
   "cell_type": "code",
   "execution_count": 36,
   "id": "deluxe-medicaid",
   "metadata": {
    "execution": {
     "iopub.execute_input": "2021-07-02T08:26:56.167055Z",
     "iopub.status.busy": "2021-07-02T08:26:56.165925Z",
     "iopub.status.idle": "2021-07-02T08:26:57.190792Z",
     "shell.execute_reply": "2021-07-02T08:26:57.189871Z",
     "shell.execute_reply.started": "2021-07-02T07:15:55.263238Z"
    },
    "papermill": {
     "duration": 1.697216,
     "end_time": "2021-07-02T08:26:57.190943",
     "exception": false,
     "start_time": "2021-07-02T08:26:55.493727",
     "status": "completed"
    },
    "tags": []
   },
   "outputs": [
    {
     "data": {
      "text/plain": [
       "array([[0.99967045],\n",
       "       [0.99998283],\n",
       "       [0.9998724 ],\n",
       "       [0.9933909 ],\n",
       "       [1.        ]], dtype=float32)"
      ]
     },
     "execution_count": 36,
     "metadata": {},
     "output_type": "execute_result"
    }
   ],
   "source": [
    "predictions_test = model.predict(test)\n",
    "predictions_test[:5]"
   ]
  },
  {
   "cell_type": "code",
   "execution_count": 37,
   "id": "solid-prediction",
   "metadata": {
    "execution": {
     "iopub.execute_input": "2021-07-02T08:26:58.539666Z",
     "iopub.status.busy": "2021-07-02T08:26:58.538925Z",
     "iopub.status.idle": "2021-07-02T08:26:58.553834Z",
     "shell.execute_reply": "2021-07-02T08:26:58.554387Z",
     "shell.execute_reply.started": "2021-07-02T07:31:11.070485Z"
    },
    "papermill": {
     "duration": 0.694043,
     "end_time": "2021-07-02T08:26:58.554555",
     "exception": false,
     "start_time": "2021-07-02T08:26:57.860512",
     "status": "completed"
    },
    "tags": []
   },
   "outputs": [
    {
     "data": {
      "text/plain": [
       "(3263, 2)"
      ]
     },
     "execution_count": 37,
     "metadata": {},
     "output_type": "execute_result"
    }
   ],
   "source": [
    "submission_sample = pd.read_csv(\"/kaggle/input/nlp-getting-started/sample_submission.csv\")\n",
    "submission_sample.head()\n",
    "submission_sample.shape"
   ]
  },
  {
   "cell_type": "code",
   "execution_count": 38,
   "id": "selective-white",
   "metadata": {
    "execution": {
     "iopub.execute_input": "2021-07-02T08:26:59.898927Z",
     "iopub.status.busy": "2021-07-02T08:26:59.898271Z",
     "iopub.status.idle": "2021-07-02T08:26:59.908165Z",
     "shell.execute_reply": "2021-07-02T08:26:59.907653Z",
     "shell.execute_reply.started": "2021-07-02T08:20:22.379013Z"
    },
    "papermill": {
     "duration": 0.683378,
     "end_time": "2021-07-02T08:26:59.908343",
     "exception": false,
     "start_time": "2021-07-02T08:26:59.224965",
     "status": "completed"
    },
    "tags": []
   },
   "outputs": [
    {
     "data": {
      "text/html": [
       "<div>\n",
       "<style scoped>\n",
       "    .dataframe tbody tr th:only-of-type {\n",
       "        vertical-align: middle;\n",
       "    }\n",
       "\n",
       "    .dataframe tbody tr th {\n",
       "        vertical-align: top;\n",
       "    }\n",
       "\n",
       "    .dataframe thead th {\n",
       "        text-align: right;\n",
       "    }\n",
       "</style>\n",
       "<table border=\"1\" class=\"dataframe\">\n",
       "  <thead>\n",
       "    <tr style=\"text-align: right;\">\n",
       "      <th></th>\n",
       "      <th>id</th>\n",
       "      <th>target</th>\n",
       "    </tr>\n",
       "  </thead>\n",
       "  <tbody>\n",
       "    <tr>\n",
       "      <th>0</th>\n",
       "      <td>0</td>\n",
       "      <td>1</td>\n",
       "    </tr>\n",
       "    <tr>\n",
       "      <th>1</th>\n",
       "      <td>2</td>\n",
       "      <td>1</td>\n",
       "    </tr>\n",
       "    <tr>\n",
       "      <th>2</th>\n",
       "      <td>3</td>\n",
       "      <td>1</td>\n",
       "    </tr>\n",
       "    <tr>\n",
       "      <th>3</th>\n",
       "      <td>9</td>\n",
       "      <td>1</td>\n",
       "    </tr>\n",
       "    <tr>\n",
       "      <th>4</th>\n",
       "      <td>11</td>\n",
       "      <td>1</td>\n",
       "    </tr>\n",
       "  </tbody>\n",
       "</table>\n",
       "</div>"
      ],
      "text/plain": [
       "   id  target\n",
       "0   0       1\n",
       "1   2       1\n",
       "2   3       1\n",
       "3   9       1\n",
       "4  11       1"
      ]
     },
     "execution_count": 38,
     "metadata": {},
     "output_type": "execute_result"
    }
   ],
   "source": [
    "predicted_value = (predictions_test > 0.5).astype(int)\n",
    "submission_sample.target = predicted_value\n",
    "submission_sample.head()"
   ]
  },
  {
   "cell_type": "code",
   "execution_count": 39,
   "id": "gothic-departure",
   "metadata": {
    "execution": {
     "iopub.execute_input": "2021-07-02T08:27:01.261872Z",
     "iopub.status.busy": "2021-07-02T08:27:01.261013Z",
     "iopub.status.idle": "2021-07-02T08:27:01.273853Z",
     "shell.execute_reply": "2021-07-02T08:27:01.273166Z",
     "shell.execute_reply.started": "2021-07-02T08:21:36.681868Z"
    },
    "papermill": {
     "duration": 0.696684,
     "end_time": "2021-07-02T08:27:01.273996",
     "exception": false,
     "start_time": "2021-07-02T08:27:00.577312",
     "status": "completed"
    },
    "tags": []
   },
   "outputs": [],
   "source": [
    "submission_sample.to_csv('submission_3.csv',index=False)"
   ]
  },
  {
   "cell_type": "code",
   "execution_count": null,
   "id": "victorian-control",
   "metadata": {
    "papermill": {
     "duration": 0.667091,
     "end_time": "2021-07-02T08:27:02.653942",
     "exception": false,
     "start_time": "2021-07-02T08:27:01.986851",
     "status": "completed"
    },
    "tags": []
   },
   "outputs": [],
   "source": []
  }
 ],
 "metadata": {
  "kernelspec": {
   "display_name": "Python 3",
   "language": "python",
   "name": "python3"
  },
  "language_info": {
   "codemirror_mode": {
    "name": "ipython",
    "version": 3
   },
   "file_extension": ".py",
   "mimetype": "text/x-python",
   "name": "python",
   "nbconvert_exporter": "python",
   "pygments_lexer": "ipython3",
   "version": "3.7.10"
  },
  "papermill": {
   "default_parameters": {},
   "duration": 261.06099,
   "end_time": "2021-07-02T08:27:05.253405",
   "environment_variables": {},
   "exception": null,
   "input_path": "__notebook__.ipynb",
   "output_path": "__notebook__.ipynb",
   "parameters": {},
   "start_time": "2021-07-02T08:22:44.192415",
   "version": "2.3.3"
  }
 },
 "nbformat": 4,
 "nbformat_minor": 5
}
